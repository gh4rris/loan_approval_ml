{
 "cells": [
  {
   "cell_type": "code",
   "execution_count": 1,
   "id": "93bc80d6",
   "metadata": {},
   "outputs": [],
   "source": [
    "# import relevant libraries\n",
    "import pandas as pd\n",
    "from sklearn.model_selection import train_test_split\n",
    "from sklearn.linear_model import LogisticRegression\n",
    "from sklearn.ensemble import RandomForestClassifier\n",
    "from sklearn.pipeline import Pipeline\n",
    "import xgboost as xgb\n",
    "import sys, os\n",
    "sys.path.append(os.path.abspath(os.path.join(os.getcwd(), \"..\")))\n",
    "from src.train import build_processor, DATA_PATH, SEED"
   ]
  },
  {
   "cell_type": "code",
   "execution_count": null,
   "id": "3bbee87c",
   "metadata": {},
   "outputs": [],
   "source": [
    "# read the dataset and split into training and test sets\n",
    "loans = pd.read_csv(DATA_PATH)\n",
    "X = loans.drop(columns=\"loan_status\")\n",
    "y = loans[\"loan_status\"]\n",
    "\n",
    "X_train, X_test, y_train, y_test = train_test_split(X, y, test_size=0.2, stratify=y, random_state=SEED)\n",
    "X_train.head()"
   ]
  },
  {
   "cell_type": "code",
   "execution_count": null,
   "id": "da03c7f0",
   "metadata": {},
   "outputs": [],
   "source": [
    "preprocessor = build_processor(X)"
   ]
  }
 ],
 "metadata": {
  "kernelspec": {
   "display_name": "3.12.3",
   "language": "python",
   "name": "python3"
  },
  "language_info": {
   "codemirror_mode": {
    "name": "ipython",
    "version": 3
   },
   "file_extension": ".py",
   "mimetype": "text/x-python",
   "name": "python",
   "nbconvert_exporter": "python",
   "pygments_lexer": "ipython3",
   "version": "3.12.3"
  }
 },
 "nbformat": 4,
 "nbformat_minor": 5
}
